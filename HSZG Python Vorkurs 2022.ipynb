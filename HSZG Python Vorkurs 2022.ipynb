{
 "cells": [
  {
   "cell_type": "markdown",
   "id": "f236ecf0-f3c8-434d-9b12-dfc90d098fc7",
   "metadata": {},
   "source": [
    "# [Update Python Vorkurs Solved](https://hszg-jupyter.inf.hszg.de/hub/user-redirect/git-pull?repo=https%3A%2F%2Fgithub.com%2Fdanielmpla%2Fpython-vorkurs&urlpath=lab%2Ftree%2Fpython-vorkurs%2F01_Einf%C3%BChrung.ipynb&branch=master)"
   ]
  }
 ],
 "metadata": {
  "kernelspec": {
   "display_name": "Python 3 (ipykernel)",
   "language": "python",
   "name": "python3"
  },
  "language_info": {
   "codemirror_mode": {
    "name": "ipython",
    "version": 3
   },
   "file_extension": ".py",
   "mimetype": "text/x-python",
   "name": "python",
   "nbconvert_exporter": "python",
   "pygments_lexer": "ipython3",
   "version": "3.9.7"
  }
 },
 "nbformat": 4,
 "nbformat_minor": 5
}
