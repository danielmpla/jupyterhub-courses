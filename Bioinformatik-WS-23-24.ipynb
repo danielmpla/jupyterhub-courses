{
 "cells": [
  {
   "cell_type": "markdown",
   "id": "available-absorption",
   "metadata": {},
   "source": [
    "[Bioinformatik WS 23/24](https://hszg-jupyter.inf.hszg.de/hub/user-redirect/git-pull?repo=https%3A%2F%2Fgithub.com%2FMarek-Pecyna%2FBioinformatik_WS23_24&urlpath=lab%2Ftree%2FBioinformatik_WS23_24%2F&branch=main)"
   ]
  }
 ],
 "metadata": {
  "kernelspec": {
   "display_name": "Python 3 (ipykernel)",
   "language": "python",
   "name": "python3"
  },
  "language_info": {
   "codemirror_mode": {
    "name": "ipython",
    "version": 3
   },
   "file_extension": ".py",
   "mimetype": "text/x-python",
   "name": "python",
   "nbconvert_exporter": "python",
   "pygments_lexer": "ipython3",
   "version": "3.10.5"
  }
 },
 "nbformat": 4,
 "nbformat_minor": 5
}
