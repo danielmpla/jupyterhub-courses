{
 "cells": [
  {
   "cell_type": "markdown",
   "id": "821a7d09-d389-4efb-8e32-43c6ef112183",
   "metadata": {},
   "source": [
    "[Update QC4MINT 2025 Course](https://hszg-jupyter.inf.hszg.de/hub/user-redirect/git-pull?repo=https%3A%2F%2Fgithub.com%2Fdanielmpla%2Fqc4mint-tud-2025&urlpath=lab%2Ftree%2Fqc4mint-tud-2025%2F01_Intro_to_Python_and_qiskit.ipynb&branch=main)"
   ]
  }
 ],
 "metadata": {
  "kernelspec": {
   "display_name": "Python 3 (ipykernel)",
   "language": "python",
   "name": "python3"
  },
  "language_info": {
   "codemirror_mode": {
    "name": "ipython",
    "version": 3
   },
   "file_extension": ".py",
   "mimetype": "text/x-python",
   "name": "python",
   "nbconvert_exporter": "python",
   "pygments_lexer": "ipython3",
   "version": "3.9.7"
  }
 },
 "nbformat": 4,
 "nbformat_minor": 5
}
