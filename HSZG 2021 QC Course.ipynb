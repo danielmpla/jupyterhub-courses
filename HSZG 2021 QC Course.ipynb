{
 "cells": [
  {
   "cell_type": "markdown",
   "id": "27844fea-167f-420e-956e-c22c5250a849",
   "metadata": {},
   "source": [
    "[Update HSZG 2021 QC Course](https://hszg-jupyter.inf.hszg.de/hub/user-redirect/git-pull?repo=https%3A%2F%2Fgithub.com%2Fdanielmpla%2Fws21-22-quantum-computing&urlpath=lab%2Ftree%2Fws21-22-quantum-computing%2F&branch=main)"
   ]
  }
 ],
 "metadata": {
  "kernelspec": {
   "display_name": "Python 3 (ipykernel)",
   "language": "python",
   "name": "python3"
  },
  "language_info": {
   "codemirror_mode": {
    "name": "ipython",
    "version": 3
   },
   "file_extension": ".py",
   "mimetype": "text/x-python",
   "name": "python",
   "nbconvert_exporter": "python",
   "pygments_lexer": "ipython3",
   "version": "3.9.6"
  }
 },
 "nbformat": 4,
 "nbformat_minor": 5
}
