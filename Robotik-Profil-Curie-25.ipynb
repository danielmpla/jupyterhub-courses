{
 "cells": [
  {
   "cell_type": "markdown",
   "id": "structural-replication",
   "metadata": {},
   "source": [
    "[Robotik-Profil 2025](https://schulen-jupyter.inf.hszg.de/hub/user-redirect/git-pull?repo=https%3A%2F%2Fgithub.com%2Ffalkogawantka%2Frobotik-profil-curie&urlpath=lab%2Ftree%2Frobotik-profil-curie%2F&branch=main)"
   ]
  },
  {
   "cell_type": "markdown",
   "id": "a10a58df",
   "metadata": {},
   "source": []
  }
 ],
 "metadata": {
  "kernelspec": {
   "display_name": "Python 3",
   "language": "python",
   "name": "python3"
  },
  "language_info": {
   "codemirror_mode": {
    "name": "ipython",
    "version": 3
   },
   "file_extension": ".py",
   "mimetype": "text/x-python",
   "name": "python",
   "nbconvert_exporter": "python",
   "pygments_lexer": "ipython3",
   "version": "3.8.6"
  }
 },
 "nbformat": 4,
 "nbformat_minor": 5
}
