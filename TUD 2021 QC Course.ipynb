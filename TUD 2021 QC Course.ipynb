{
 "cells": [
  {
   "cell_type": "markdown",
   "id": "breeding-samba",
   "metadata": {},
   "source": [
    "# [Update TUD 2021 QC for STEM course](https://hszg-jupyter.inf.hszg.de/hub/user-redirect/git-pull?repo=https%3A%2F%2Fgithub.com%2Fdanielmpla%2Fqc4mint-tud-2021&urlpath=lab%2Ftree%2Fqc4mint-tud-2021%2F01_Intro_to_Python_and_qiskit.ipynb&branch=main)"
   ]
  }
 ],
 "metadata": {
  "kernelspec": {
   "display_name": "Python 3",
   "language": "python",
   "name": "python3"
  },
  "language_info": {
   "codemirror_mode": {
    "name": "ipython",
    "version": 3
   },
   "file_extension": ".py",
   "mimetype": "text/x-python",
   "name": "python",
   "nbconvert_exporter": "python",
   "pygments_lexer": "ipython3",
   "version": "3.8.8"
  }
 },
 "nbformat": 4,
 "nbformat_minor": 5
}
