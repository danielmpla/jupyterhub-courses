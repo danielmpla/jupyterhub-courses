{
 "cells": [
  {
   "cell_type": "markdown",
   "id": "43bd11bb-8fc9-4724-8b96-eb4c8db426cd",
   "metadata": {
    "editable": true,
    "slideshow": {
     "slide_type": ""
    },
    "tags": []
   },
   "source": [
    "[Bioinformatik_Brugger](https://hszg-jupyter.inf.hszg.de/hub/user-redirect/git-pull?repo=https%3A%2F%2Fgithub.com%2Fmarkusbrugger%2FBioinformatik_Brugger&urlpath=lab%2Ftree%2FBioinformatik_Brugger%2F&branch=main)"
   ]
  }
 ],
 "metadata": {
  "kernelspec": {
   "display_name": "R",
   "language": "R",
   "name": "ir"
  },
  "language_info": {
   "codemirror_mode": "r",
   "file_extension": ".r",
   "mimetype": "text/x-r-source",
   "name": "R",
   "pygments_lexer": "r",
   "version": "4.3.1"
  }
 },
 "nbformat": 4,
 "nbformat_minor": 5
}
